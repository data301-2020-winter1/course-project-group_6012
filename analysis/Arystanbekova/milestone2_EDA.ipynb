{
 "cells": [
  {
   "cell_type": "code",
   "execution_count": 1,
   "metadata": {},
   "outputs": [],
   "source": [
    "import pandas as pd\n",
    "import seaborn as sns\n",
    "import matplotlib.pyplot as plt"
   ]
  },
  {
   "cell_type": "code",
   "execution_count": 2,
   "metadata": {},
   "outputs": [],
   "source": [
    "import sys, os\n",
    "sys.path.insert(0, os.path.abspath('..'))"
   ]
  },
  {
   "cell_type": "code",
   "execution_count": 3,
   "metadata": {},
   "outputs": [],
   "source": [
    "from scripts import project_functions\n",
    "df = project_functions.load_and_process(r\"..\\..\\data\\raw\\UniversitiesDataSet.csv\") #I am just showing that I can do this but I am going to analyze raw data"
   ]
  },
  {
   "cell_type": "markdown",
   "metadata": {},
   "source": [
    "Inspect data types, number of null values, mean, median, min and max for each year:\n",
    "\n",
    "1) 2012 and 2013 is missing data in broad impact column\n",
    "\n",
    "2) Dramatic increase in all mean and median for all the columns after 2013 (because there were only 100 schools ranked in 2012 and 2013)\n",
    "\n",
    "3) Addition of lower ranked schools increased the mean and median of alumni employment rate"
   ]
  },
  {
   "cell_type": "code",
   "execution_count": 6,
   "metadata": {},
   "outputs": [
    {
     "data": {
      "text/html": [
       "<div>\n",
       "<style scoped>\n",
       "    .dataframe tbody tr th:only-of-type {\n",
       "        vertical-align: middle;\n",
       "    }\n",
       "\n",
       "    .dataframe tbody tr th {\n",
       "        vertical-align: top;\n",
       "    }\n",
       "\n",
       "    .dataframe thead th {\n",
       "        text-align: right;\n",
       "    }\n",
       "</style>\n",
       "<table border=\"1\" class=\"dataframe\">\n",
       "  <thead>\n",
       "    <tr style=\"text-align: right;\">\n",
       "      <th></th>\n",
       "      <th></th>\n",
       "      <th>null_sum</th>\n",
       "      <th>dtypes</th>\n",
       "      <th>mean</th>\n",
       "      <th>median</th>\n",
       "      <th>min</th>\n",
       "      <th>max</th>\n",
       "    </tr>\n",
       "  </thead>\n",
       "  <tbody>\n",
       "    <tr>\n",
       "      <th rowspan=\"15\" valign=\"top\">2014</th>\n",
       "      <th>Score - Avg</th>\n",
       "      <td>0</td>\n",
       "      <td>float64</td>\n",
       "      <td>4.075600e-01</td>\n",
       "      <td>-1.75385</td>\n",
       "      <td>-2.68385</td>\n",
       "      <td>53.1362</td>\n",
       "    </tr>\n",
       "    <tr>\n",
       "      <th>alumni_employment</th>\n",
       "      <td>0</td>\n",
       "      <td>int64</td>\n",
       "      <td>3.639910e+02</td>\n",
       "      <td>478.00000</td>\n",
       "      <td>1</td>\n",
       "      <td>478</td>\n",
       "    </tr>\n",
       "    <tr>\n",
       "      <th>broad_impact</th>\n",
       "      <td>0</td>\n",
       "      <td>float64</td>\n",
       "      <td>4.967350e+02</td>\n",
       "      <td>496.00000</td>\n",
       "      <td>1</td>\n",
       "      <td>1000</td>\n",
       "    </tr>\n",
       "    <tr>\n",
       "      <th>citations</th>\n",
       "      <td>0</td>\n",
       "      <td>int64</td>\n",
       "      <td>4.473490e+02</td>\n",
       "      <td>493.00000</td>\n",
       "      <td>1</td>\n",
       "      <td>800</td>\n",
       "    </tr>\n",
       "    <tr>\n",
       "      <th>country</th>\n",
       "      <td>0</td>\n",
       "      <td>object</td>\n",
       "      <td>NaN</td>\n",
       "      <td>NaN</td>\n",
       "      <td>Argentina</td>\n",
       "      <td>Uruguay</td>\n",
       "    </tr>\n",
       "    <tr>\n",
       "      <th>influence</th>\n",
       "      <td>0</td>\n",
       "      <td>int64</td>\n",
       "      <td>5.001630e+02</td>\n",
       "      <td>500.50000</td>\n",
       "      <td>1</td>\n",
       "      <td>987</td>\n",
       "    </tr>\n",
       "    <tr>\n",
       "      <th>institution</th>\n",
       "      <td>0</td>\n",
       "      <td>object</td>\n",
       "      <td>NaN</td>\n",
       "      <td>NaN</td>\n",
       "      <td>AGH University of Science and Technology</td>\n",
       "      <td>Örebro University</td>\n",
       "    </tr>\n",
       "    <tr>\n",
       "      <th>national_rank</th>\n",
       "      <td>0</td>\n",
       "      <td>int64</td>\n",
       "      <td>4.252400e+01</td>\n",
       "      <td>22.00000</td>\n",
       "      <td>1</td>\n",
       "      <td>229</td>\n",
       "    </tr>\n",
       "    <tr>\n",
       "      <th>patents</th>\n",
       "      <td>0</td>\n",
       "      <td>int64</td>\n",
       "      <td>4.489680e+02</td>\n",
       "      <td>481.00000</td>\n",
       "      <td>1</td>\n",
       "      <td>737</td>\n",
       "    </tr>\n",
       "    <tr>\n",
       "      <th>publications</th>\n",
       "      <td>0</td>\n",
       "      <td>int64</td>\n",
       "      <td>5.004110e+02</td>\n",
       "      <td>500.50000</td>\n",
       "      <td>1</td>\n",
       "      <td>1000</td>\n",
       "    </tr>\n",
       "    <tr>\n",
       "      <th>quality_of_education</th>\n",
       "      <td>0</td>\n",
       "      <td>int64</td>\n",
       "      <td>2.921640e+02</td>\n",
       "      <td>355.00000</td>\n",
       "      <td>1</td>\n",
       "      <td>355</td>\n",
       "    </tr>\n",
       "    <tr>\n",
       "      <th>quality_of_faculty</th>\n",
       "      <td>0</td>\n",
       "      <td>int64</td>\n",
       "      <td>1.880020e+02</td>\n",
       "      <td>210.00000</td>\n",
       "      <td>1</td>\n",
       "      <td>210</td>\n",
       "    </tr>\n",
       "    <tr>\n",
       "      <th>score</th>\n",
       "      <td>0</td>\n",
       "      <td>float64</td>\n",
       "      <td>4.727141e+01</td>\n",
       "      <td>45.11000</td>\n",
       "      <td>44.18</td>\n",
       "      <td>100</td>\n",
       "    </tr>\n",
       "    <tr>\n",
       "      <th>world_rank</th>\n",
       "      <td>0</td>\n",
       "      <td>int64</td>\n",
       "      <td>5.005000e+02</td>\n",
       "      <td>500.50000</td>\n",
       "      <td>1</td>\n",
       "      <td>1000</td>\n",
       "    </tr>\n",
       "    <tr>\n",
       "      <th>year</th>\n",
       "      <td>0</td>\n",
       "      <td>int64</td>\n",
       "      <td>2.014000e+03</td>\n",
       "      <td>2014.00000</td>\n",
       "      <td>2014</td>\n",
       "      <td>2014</td>\n",
       "    </tr>\n",
       "    <tr>\n",
       "      <th rowspan=\"15\" valign=\"top\">2015</th>\n",
       "      <th>Score - Avg</th>\n",
       "      <td>0</td>\n",
       "      <td>float64</td>\n",
       "      <td>9.094947e-16</td>\n",
       "      <td>-2.08385</td>\n",
       "      <td>-2.84385</td>\n",
       "      <td>53.1362</td>\n",
       "    </tr>\n",
       "    <tr>\n",
       "      <th>alumni_employment</th>\n",
       "      <td>0</td>\n",
       "      <td>int64</td>\n",
       "      <td>4.065360e+02</td>\n",
       "      <td>500.50000</td>\n",
       "      <td>1</td>\n",
       "      <td>567</td>\n",
       "    </tr>\n",
       "    <tr>\n",
       "      <th>broad_impact</th>\n",
       "      <td>0</td>\n",
       "      <td>float64</td>\n",
       "      <td>4.966640e+02</td>\n",
       "      <td>495.00000</td>\n",
       "      <td>1</td>\n",
       "      <td>1000</td>\n",
       "    </tr>\n",
       "    <tr>\n",
       "      <th>citations</th>\n",
       "      <td>0</td>\n",
       "      <td>int64</td>\n",
       "      <td>4.513340e+02</td>\n",
       "      <td>428.00000</td>\n",
       "      <td>1</td>\n",
       "      <td>812</td>\n",
       "    </tr>\n",
       "    <tr>\n",
       "      <th>country</th>\n",
       "      <td>0</td>\n",
       "      <td>object</td>\n",
       "      <td>NaN</td>\n",
       "      <td>NaN</td>\n",
       "      <td>Argentina</td>\n",
       "      <td>Uruguay</td>\n",
       "    </tr>\n",
       "    <tr>\n",
       "      <th>influence</th>\n",
       "      <td>0</td>\n",
       "      <td>int64</td>\n",
       "      <td>5.002750e+02</td>\n",
       "      <td>500.50000</td>\n",
       "      <td>1</td>\n",
       "      <td>991</td>\n",
       "    </tr>\n",
       "    <tr>\n",
       "      <th>institution</th>\n",
       "      <td>0</td>\n",
       "      <td>object</td>\n",
       "      <td>NaN</td>\n",
       "      <td>NaN</td>\n",
       "      <td>AGH University of Science and Technology</td>\n",
       "      <td>Örebro University</td>\n",
       "    </tr>\n",
       "    <tr>\n",
       "      <th>national_rank</th>\n",
       "      <td>0</td>\n",
       "      <td>int64</td>\n",
       "      <td>4.251200e+01</td>\n",
       "      <td>22.00000</td>\n",
       "      <td>1</td>\n",
       "      <td>229</td>\n",
       "    </tr>\n",
       "    <tr>\n",
       "      <th>patents</th>\n",
       "      <td>0</td>\n",
       "      <td>int64</td>\n",
       "      <td>4.916740e+02</td>\n",
       "      <td>500.50000</td>\n",
       "      <td>1</td>\n",
       "      <td>871</td>\n",
       "    </tr>\n",
       "    <tr>\n",
       "      <th>publications</th>\n",
       "      <td>0</td>\n",
       "      <td>int64</td>\n",
       "      <td>5.004190e+02</td>\n",
       "      <td>500.50000</td>\n",
       "      <td>1</td>\n",
       "      <td>1000</td>\n",
       "    </tr>\n",
       "    <tr>\n",
       "      <th>quality_of_education</th>\n",
       "      <td>0</td>\n",
       "      <td>int64</td>\n",
       "      <td>2.998390e+02</td>\n",
       "      <td>367.00000</td>\n",
       "      <td>1</td>\n",
       "      <td>367</td>\n",
       "    </tr>\n",
       "    <tr>\n",
       "      <th>quality_of_faculty</th>\n",
       "      <td>0</td>\n",
       "      <td>int64</td>\n",
       "      <td>1.942530e+02</td>\n",
       "      <td>218.00000</td>\n",
       "      <td>1</td>\n",
       "      <td>218</td>\n",
       "    </tr>\n",
       "    <tr>\n",
       "      <th>score</th>\n",
       "      <td>0</td>\n",
       "      <td>float64</td>\n",
       "      <td>4.686385e+01</td>\n",
       "      <td>44.78000</td>\n",
       "      <td>44.02</td>\n",
       "      <td>100</td>\n",
       "    </tr>\n",
       "    <tr>\n",
       "      <th>world_rank</th>\n",
       "      <td>0</td>\n",
       "      <td>int64</td>\n",
       "      <td>5.005000e+02</td>\n",
       "      <td>500.50000</td>\n",
       "      <td>1</td>\n",
       "      <td>1000</td>\n",
       "    </tr>\n",
       "    <tr>\n",
       "      <th>year</th>\n",
       "      <td>0</td>\n",
       "      <td>int64</td>\n",
       "      <td>2.015000e+03</td>\n",
       "      <td>2015.00000</td>\n",
       "      <td>2015</td>\n",
       "      <td>2015</td>\n",
       "    </tr>\n",
       "  </tbody>\n",
       "</table>\n",
       "</div>"
      ],
      "text/plain": [
       "                           null_sum   dtypes          mean      median  \\\n",
       "2014 Score - Avg                  0  float64  4.075600e-01    -1.75385   \n",
       "     alumni_employment            0    int64  3.639910e+02   478.00000   \n",
       "     broad_impact                 0  float64  4.967350e+02   496.00000   \n",
       "     citations                    0    int64  4.473490e+02   493.00000   \n",
       "     country                      0   object           NaN         NaN   \n",
       "     influence                    0    int64  5.001630e+02   500.50000   \n",
       "     institution                  0   object           NaN         NaN   \n",
       "     national_rank                0    int64  4.252400e+01    22.00000   \n",
       "     patents                      0    int64  4.489680e+02   481.00000   \n",
       "     publications                 0    int64  5.004110e+02   500.50000   \n",
       "     quality_of_education         0    int64  2.921640e+02   355.00000   \n",
       "     quality_of_faculty           0    int64  1.880020e+02   210.00000   \n",
       "     score                        0  float64  4.727141e+01    45.11000   \n",
       "     world_rank                   0    int64  5.005000e+02   500.50000   \n",
       "     year                         0    int64  2.014000e+03  2014.00000   \n",
       "2015 Score - Avg                  0  float64  9.094947e-16    -2.08385   \n",
       "     alumni_employment            0    int64  4.065360e+02   500.50000   \n",
       "     broad_impact                 0  float64  4.966640e+02   495.00000   \n",
       "     citations                    0    int64  4.513340e+02   428.00000   \n",
       "     country                      0   object           NaN         NaN   \n",
       "     influence                    0    int64  5.002750e+02   500.50000   \n",
       "     institution                  0   object           NaN         NaN   \n",
       "     national_rank                0    int64  4.251200e+01    22.00000   \n",
       "     patents                      0    int64  4.916740e+02   500.50000   \n",
       "     publications                 0    int64  5.004190e+02   500.50000   \n",
       "     quality_of_education         0    int64  2.998390e+02   367.00000   \n",
       "     quality_of_faculty           0    int64  1.942530e+02   218.00000   \n",
       "     score                        0  float64  4.686385e+01    44.78000   \n",
       "     world_rank                   0    int64  5.005000e+02   500.50000   \n",
       "     year                         0    int64  2.015000e+03  2015.00000   \n",
       "\n",
       "                                                                min  \\\n",
       "2014 Score - Avg                                           -2.68385   \n",
       "     alumni_employment                                            1   \n",
       "     broad_impact                                                 1   \n",
       "     citations                                                    1   \n",
       "     country                                              Argentina   \n",
       "     influence                                                    1   \n",
       "     institution           AGH University of Science and Technology   \n",
       "     national_rank                                                1   \n",
       "     patents                                                      1   \n",
       "     publications                                                 1   \n",
       "     quality_of_education                                         1   \n",
       "     quality_of_faculty                                           1   \n",
       "     score                                                    44.18   \n",
       "     world_rank                                                   1   \n",
       "     year                                                      2014   \n",
       "2015 Score - Avg                                           -2.84385   \n",
       "     alumni_employment                                            1   \n",
       "     broad_impact                                                 1   \n",
       "     citations                                                    1   \n",
       "     country                                              Argentina   \n",
       "     influence                                                    1   \n",
       "     institution           AGH University of Science and Technology   \n",
       "     national_rank                                                1   \n",
       "     patents                                                      1   \n",
       "     publications                                                 1   \n",
       "     quality_of_education                                         1   \n",
       "     quality_of_faculty                                           1   \n",
       "     score                                                    44.02   \n",
       "     world_rank                                                   1   \n",
       "     year                                                      2015   \n",
       "\n",
       "                                         max  \n",
       "2014 Score - Avg                     53.1362  \n",
       "     alumni_employment                   478  \n",
       "     broad_impact                       1000  \n",
       "     citations                           800  \n",
       "     country                         Uruguay  \n",
       "     influence                           987  \n",
       "     institution           Örebro University  \n",
       "     national_rank                       229  \n",
       "     patents                             737  \n",
       "     publications                       1000  \n",
       "     quality_of_education                355  \n",
       "     quality_of_faculty                  210  \n",
       "     score                               100  \n",
       "     world_rank                         1000  \n",
       "     year                               2014  \n",
       "2015 Score - Avg                     53.1362  \n",
       "     alumni_employment                   567  \n",
       "     broad_impact                       1000  \n",
       "     citations                           812  \n",
       "     country                         Uruguay  \n",
       "     influence                           991  \n",
       "     institution           Örebro University  \n",
       "     national_rank                       229  \n",
       "     patents                             871  \n",
       "     publications                       1000  \n",
       "     quality_of_education                367  \n",
       "     quality_of_faculty                  218  \n",
       "     score                               100  \n",
       "     world_rank                         1000  \n",
       "     year                               2015  "
      ]
     },
     "execution_count": 6,
     "metadata": {},
     "output_type": "execute_result"
    }
   ],
   "source": [
    "def uni_eda(df): \n",
    "    \n",
    "    years = list(df.groupby('year').groups.keys())\n",
    "    years_i = df.groupby('year')\n",
    "    dfs = []\n",
    "    for i in range(len(years)):\n",
    "        \n",
    "        df_h = years_i.get_group(years[i])\n",
    "        eda_df = {}\n",
    "        eda_df['null_sum'] = df_h.isnull().sum()\n",
    "        eda_df['dtypes'] = df_h.dtypes\n",
    "        eda_df['mean'] = df_h.mean()\n",
    "        eda_df['median'] = df_h.median()\n",
    "        eda_df['min'] = df_h.min()\n",
    "        eda_df['max'] = df_h.max()\n",
    "        \n",
    "        dfs.append(pd.DataFrame(eda_df)) \n",
    "        final_df = pd.concat(dfs, keys = ['2014', '2015'])\n",
    "    return final_df\n",
    "uni_eda(df)"
   ]
  },
  {
   "cell_type": "markdown",
   "metadata": {},
   "source": [
    "What is the shape of dataframe?"
   ]
  },
  {
   "cell_type": "code",
   "execution_count": 7,
   "metadata": {},
   "outputs": [
    {
     "data": {
      "text/plain": [
       "(2000, 15)"
      ]
     },
     "execution_count": 7,
     "metadata": {},
     "output_type": "execute_result"
    }
   ],
   "source": [
    "df.shape"
   ]
  },
  {
   "cell_type": "markdown",
   "metadata": {},
   "source": [
    "Let's convert all floats to integers for convenience"
   ]
  },
  {
   "cell_type": "code",
   "execution_count": 6,
   "metadata": {},
   "outputs": [],
   "source": [
    "df.broad_impact = df.broad_impact.astype(int)\n",
    "df.score = df.score.astype(int)"
   ]
  },
  {
   "cell_type": "markdown",
   "metadata": {},
   "source": [
    "Look at the spread of numerical values:"
   ]
  },
  {
   "cell_type": "code",
   "execution_count": 8,
   "metadata": {},
   "outputs": [
    {
     "data": {
      "text/html": [
       "<div>\n",
       "<style scoped>\n",
       "    .dataframe tbody tr th:only-of-type {\n",
       "        vertical-align: middle;\n",
       "    }\n",
       "\n",
       "    .dataframe tbody tr th {\n",
       "        vertical-align: top;\n",
       "    }\n",
       "\n",
       "    .dataframe thead th {\n",
       "        text-align: right;\n",
       "    }\n",
       "</style>\n",
       "<table border=\"1\" class=\"dataframe\">\n",
       "  <thead>\n",
       "    <tr style=\"text-align: right;\">\n",
       "      <th></th>\n",
       "      <th>world_rank</th>\n",
       "      <th>national_rank</th>\n",
       "      <th>quality_of_education</th>\n",
       "      <th>alumni_employment</th>\n",
       "      <th>quality_of_faculty</th>\n",
       "      <th>publications</th>\n",
       "      <th>influence</th>\n",
       "      <th>citations</th>\n",
       "      <th>broad_impact</th>\n",
       "      <th>patents</th>\n",
       "      <th>score</th>\n",
       "      <th>year</th>\n",
       "    </tr>\n",
       "  </thead>\n",
       "  <tbody>\n",
       "    <tr>\n",
       "      <th>count</th>\n",
       "      <td>2000.000000</td>\n",
       "      <td>2000.000000</td>\n",
       "      <td>2000.000000</td>\n",
       "      <td>2000.000000</td>\n",
       "      <td>2000.000000</td>\n",
       "      <td>2000.000000</td>\n",
       "      <td>2000.00000</td>\n",
       "      <td>2000.000000</td>\n",
       "      <td>2000.000000</td>\n",
       "      <td>2000.000000</td>\n",
       "      <td>2000.000000</td>\n",
       "      <td>2000.000000</td>\n",
       "    </tr>\n",
       "    <tr>\n",
       "      <th>mean</th>\n",
       "      <td>500.500000</td>\n",
       "      <td>42.518000</td>\n",
       "      <td>296.001500</td>\n",
       "      <td>385.263500</td>\n",
       "      <td>191.127500</td>\n",
       "      <td>500.415000</td>\n",
       "      <td>500.21900</td>\n",
       "      <td>449.341500</td>\n",
       "      <td>496.699500</td>\n",
       "      <td>470.321000</td>\n",
       "      <td>46.611500</td>\n",
       "      <td>2014.500000</td>\n",
       "    </tr>\n",
       "    <tr>\n",
       "      <th>std</th>\n",
       "      <td>288.747186</td>\n",
       "      <td>53.444193</td>\n",
       "      <td>106.868798</td>\n",
       "      <td>171.874782</td>\n",
       "      <td>52.402579</td>\n",
       "      <td>288.674823</td>\n",
       "      <td>288.30505</td>\n",
       "      <td>250.141228</td>\n",
       "      <td>286.919755</td>\n",
       "      <td>259.625408</td>\n",
       "      <td>6.585306</td>\n",
       "      <td>0.500125</td>\n",
       "    </tr>\n",
       "    <tr>\n",
       "      <th>min</th>\n",
       "      <td>1.000000</td>\n",
       "      <td>1.000000</td>\n",
       "      <td>1.000000</td>\n",
       "      <td>1.000000</td>\n",
       "      <td>1.000000</td>\n",
       "      <td>1.000000</td>\n",
       "      <td>1.00000</td>\n",
       "      <td>1.000000</td>\n",
       "      <td>1.000000</td>\n",
       "      <td>1.000000</td>\n",
       "      <td>44.000000</td>\n",
       "      <td>2014.000000</td>\n",
       "    </tr>\n",
       "    <tr>\n",
       "      <th>25%</th>\n",
       "      <td>250.750000</td>\n",
       "      <td>7.000000</td>\n",
       "      <td>250.750000</td>\n",
       "      <td>250.750000</td>\n",
       "      <td>210.000000</td>\n",
       "      <td>250.750000</td>\n",
       "      <td>250.75000</td>\n",
       "      <td>234.000000</td>\n",
       "      <td>250.500000</td>\n",
       "      <td>242.750000</td>\n",
       "      <td>44.000000</td>\n",
       "      <td>2014.000000</td>\n",
       "    </tr>\n",
       "    <tr>\n",
       "      <th>50%</th>\n",
       "      <td>500.500000</td>\n",
       "      <td>22.000000</td>\n",
       "      <td>355.000000</td>\n",
       "      <td>478.000000</td>\n",
       "      <td>210.000000</td>\n",
       "      <td>500.500000</td>\n",
       "      <td>500.50000</td>\n",
       "      <td>428.000000</td>\n",
       "      <td>496.000000</td>\n",
       "      <td>481.000000</td>\n",
       "      <td>44.000000</td>\n",
       "      <td>2014.500000</td>\n",
       "    </tr>\n",
       "    <tr>\n",
       "      <th>75%</th>\n",
       "      <td>750.250000</td>\n",
       "      <td>52.000000</td>\n",
       "      <td>367.000000</td>\n",
       "      <td>500.250000</td>\n",
       "      <td>218.000000</td>\n",
       "      <td>750.000000</td>\n",
       "      <td>750.25000</td>\n",
       "      <td>645.000000</td>\n",
       "      <td>741.000000</td>\n",
       "      <td>737.000000</td>\n",
       "      <td>46.000000</td>\n",
       "      <td>2015.000000</td>\n",
       "    </tr>\n",
       "    <tr>\n",
       "      <th>max</th>\n",
       "      <td>1000.000000</td>\n",
       "      <td>229.000000</td>\n",
       "      <td>367.000000</td>\n",
       "      <td>567.000000</td>\n",
       "      <td>218.000000</td>\n",
       "      <td>1000.000000</td>\n",
       "      <td>991.00000</td>\n",
       "      <td>812.000000</td>\n",
       "      <td>1000.000000</td>\n",
       "      <td>871.000000</td>\n",
       "      <td>100.000000</td>\n",
       "      <td>2015.000000</td>\n",
       "    </tr>\n",
       "  </tbody>\n",
       "</table>\n",
       "</div>"
      ],
      "text/plain": [
       "        world_rank  national_rank  quality_of_education  alumni_employment  \\\n",
       "count  2000.000000    2000.000000           2000.000000        2000.000000   \n",
       "mean    500.500000      42.518000            296.001500         385.263500   \n",
       "std     288.747186      53.444193            106.868798         171.874782   \n",
       "min       1.000000       1.000000              1.000000           1.000000   \n",
       "25%     250.750000       7.000000            250.750000         250.750000   \n",
       "50%     500.500000      22.000000            355.000000         478.000000   \n",
       "75%     750.250000      52.000000            367.000000         500.250000   \n",
       "max    1000.000000     229.000000            367.000000         567.000000   \n",
       "\n",
       "       quality_of_faculty  publications   influence    citations  \\\n",
       "count         2000.000000   2000.000000  2000.00000  2000.000000   \n",
       "mean           191.127500    500.415000   500.21900   449.341500   \n",
       "std             52.402579    288.674823   288.30505   250.141228   \n",
       "min              1.000000      1.000000     1.00000     1.000000   \n",
       "25%            210.000000    250.750000   250.75000   234.000000   \n",
       "50%            210.000000    500.500000   500.50000   428.000000   \n",
       "75%            218.000000    750.000000   750.25000   645.000000   \n",
       "max            218.000000   1000.000000   991.00000   812.000000   \n",
       "\n",
       "       broad_impact      patents        score         year  \n",
       "count   2000.000000  2000.000000  2000.000000  2000.000000  \n",
       "mean     496.699500   470.321000    46.611500  2014.500000  \n",
       "std      286.919755   259.625408     6.585306     0.500125  \n",
       "min        1.000000     1.000000    44.000000  2014.000000  \n",
       "25%      250.500000   242.750000    44.000000  2014.000000  \n",
       "50%      496.000000   481.000000    44.000000  2014.500000  \n",
       "75%      741.000000   737.000000    46.000000  2015.000000  \n",
       "max     1000.000000   871.000000   100.000000  2015.000000  "
      ]
     },
     "execution_count": 8,
     "metadata": {},
     "output_type": "execute_result"
    }
   ],
   "source": [
    "df.describe()"
   ]
  },
  {
   "cell_type": "markdown",
   "metadata": {},
   "source": [
    "Do we have outliers? (I will display only those that have)"
   ]
  },
  {
   "cell_type": "code",
   "execution_count": 10,
   "metadata": {},
   "outputs": [
    {
     "data": {
      "text/plain": [
       "<AxesSubplot:>"
      ]
     },
     "execution_count": 10,
     "metadata": {},
     "output_type": "execute_result"
    },
    {
     "data": {
      "image/png": "[encoded data removed]",
      "text/plain": [
       "<Figure size 432x288 with 1 Axes>"
      ]
     },
     "metadata": {
      "needs_background": "light"
     },
     "output_type": "display_data"
    }
   ],
   "source": [
    "df.boxplot('quality_of_education') #hm, seems so!"
   ]
  },
  {
   "cell_type": "code",
   "execution_count": 12,
   "metadata": {},
   "outputs": [
    {
     "data": {
      "text/plain": [
       "<AxesSubplot:>"
      ]
     },
     "execution_count": 12,
     "metadata": {},
     "output_type": "execute_result"
    },
    {
     "data": {
      "image/png": "[encoded data removed]",
      "text/plain": [
       "<Figure size 432x288 with 1 Axes>"
      ]
     },
     "metadata": {
      "needs_background": "light"
     },
     "output_type": "display_data"
    }
   ],
   "source": [
    "df.boxplot('quality_of_faculty')"
   ]
  },
  {
   "cell_type": "markdown",
   "metadata": {},
   "source": [
    "We are not going to do anything with them, because it will affect the whole dataset (quality_of_factulty has too many outliers). But now when analyzing, we need to keep in mind what columns have outliers."
   ]
  },
  {
   "cell_type": "markdown",
   "metadata": {},
   "source": [
    "Look at the correlation accross the dataset"
   ]
  },
  {
   "cell_type": "code",
   "execution_count": 13,
   "metadata": {},
   "outputs": [
    {
     "data": {
      "text/plain": [
       "<AxesSubplot:>"
      ]
     },
     "execution_count": 13,
     "metadata": {},
     "output_type": "execute_result"
    },
    {
     "data": {
      "image/png": "[encoded data removed]",
      "text/plain": [
       "<Figure size 432x288 with 2 Axes>"
      ]
     },
     "metadata": {
      "needs_background": "light"
     },
     "output_type": "display_data"
    }
   ],
   "source": [
    "sns.heatmap(df.corr(), cmap='coolwarm')"
   ]
  },
  {
   "cell_type": "markdown",
   "metadata": {},
   "source": [
    "We see high corrolation between publications and world rank, broad impact and world rank and others and lower between national rank and quality of education. Interesting!"
   ]
  },
  {
   "cell_type": "markdown",
   "metadata": {},
   "source": [
    "Now let's take a look at group's research question: what indicators lead to higher alumni employment? (Here I used the old data set because I wanted to explore older data as well)"
   ]
  },
  {
   "cell_type": "markdown",
   "metadata": {},
   "source": [
    "Show the pairwise correlations between all the columns and alumni employment rate for all years (2012-2015)\n",
    "\n",
    "So far it seems that world_rank has the most impact on the alumni_employment (or it might be the other way, that alumni_employment had an impact on world_rank and schools ranked higher because of higher employment of graduates)"
   ]
  },
  {
   "cell_type": "code",
   "execution_count": 9,
   "metadata": {},
   "outputs": [
    {
     "data": {
      "text/plain": [
       "<AxesSubplot:>"
      ]
     },
     "execution_count": 9,
     "metadata": {},
     "output_type": "execute_result"
    },
    {
     "data": {
      "image/png": "[encoded data removed]",
      "text/plain": [
       "<Figure size 432x288 with 2 Axes>"
      ]
     },
     "metadata": {
      "needs_background": "light"
     },
     "output_type": "display_data"
    }
   ],
   "source": [
    "correlations = df.corrwith(df['alumni_employment']).to_frame().drop('alumni_employment')\n",
    "correlations['abs'] = correlations[0].abs()\n",
    "sorted_correlations = correlations.sort_values(['abs'], ascending=False)['abs']\n",
    "sns.heatmap(sorted_correlations.to_frame(), cmap='coolwarm', annot=True, vmin=0, vmax=1)"
   ]
  },
  {
   "cell_type": "markdown",
   "metadata": {},
   "source": [
    "Show the pairwise correlations between all the columns and alumni employment rate for each year\n",
    "\n",
    "For 2014-2015, we see that world_rank is correlated with alumni_employment "
   ]
  },
  {
   "cell_type": "code",
   "execution_count": 12,
   "metadata": {},
   "outputs": [],
   "source": [
    "def plot_each_year(year, df):\n",
    "    years = list(df.groupby('year').groups.keys())\n",
    "    years_i = df.groupby('year')\n",
    "    correlations = years_i.get_group(year).corrwith(df['alumni_employment']).to_frame().drop(['alumni_employment', 'year'])\n",
    "    correlations['abs'] = correlations[0].abs()\n",
    "    sorted_correlations = correlations.sort_values(['abs'], ascending=False)['abs']\n",
    "    return sns.heatmap(sorted_correlations.to_frame(), cmap='coolwarm', annot=True, vmin=0, vmax=1)"
   ]
  },
  {
   "cell_type": "code",
   "execution_count": 15,
   "metadata": {},
   "outputs": [],
   "source": [
    "def plotting(year):\n",
    "    if year == 2014:\n",
    "        plot_each_year(2014,df)\n",
    "    elif year == 2015:\n",
    "        plot_each_year(2015,df)\n",
    "    else:\n",
    "        print('There is no information for this year')"
   ]
  },
  {
   "cell_type": "code",
   "execution_count": 16,
   "metadata": {},
   "outputs": [
    {
     "data": {
      "image/png": "[encoded data removed]",
      "text/plain": [
       "<Figure size 432x288 with 2 Axes>"
      ]
     },
     "metadata": {
      "needs_background": "light"
     },
     "output_type": "display_data"
    }
   ],
   "source": [
    "plotting(2014)"
   ]
  },
  {
   "cell_type": "code",
   "execution_count": 17,
   "metadata": {},
   "outputs": [
    {
     "data": {
      "image/png": "[encoded data removed]",
      "text/plain": [
       "<Figure size 432x288 with 2 Axes>"
      ]
     },
     "metadata": {
      "needs_background": "light"
     },
     "output_type": "display_data"
    }
   ],
   "source": [
    "plotting(2015)"
   ]
  },
  {
   "cell_type": "markdown",
   "metadata": {},
   "source": [
    "How does the country of an institution affect alumni employemnt rate overall?\n",
    "\n",
    "I think, because more developed countries might be more focused on research, they have lower alumni employment (since their alumnis are going into grad schools), while less developed countries are more interested in graduating people who would actually go get the job. But we would have to check publication, influence, citation and patents to make sure that there is a relation."
   ]
  },
  {
   "cell_type": "code",
   "execution_count": 19,
   "metadata": {},
   "outputs": [
    {
     "name": "stderr",
     "output_type": "stream",
     "text": [
      "C:\\Users\\ww\\miniconda3\\lib\\site-packages\\seaborn\\_decorators.py:36: FutureWarning: Pass the following variables as keyword args: x, y. From version 0.12, the only valid positional argument will be `data`, and passing other arguments without an explicit keyword will result in an error or misinterpretation.\n",
      "  warnings.warn(\n"
     ]
    },
    {
     "data": {
      "text/plain": [
       "Text(0.5, 1.0, 'Country vs. Alumni Employment rate')"
      ]
     },
     "execution_count": 19,
     "metadata": {},
     "output_type": "execute_result"
    },
    {
     "data": {
      "image/png": "[encoded data removed]",
      "text/plain": [
       "<Figure size 1152x432 with 1 Axes>"
      ]
     },
     "metadata": {
      "needs_background": "light"
     },
     "output_type": "display_data"
    }
   ],
   "source": [
    "def country_plot(df):\n",
    "    plt.figure(figsize=(16, 6))\n",
    "    plt.xticks(rotation=270)\n",
    "    return sns.boxplot(df['country'], df['alumni_employment']).set_title('Country vs. Alumni Employment rate')\n",
    "country_plot(df)"
   ]
  },
  {
   "cell_type": "code",
   "execution_count": null,
   "metadata": {},
   "outputs": [],
   "source": []
  }
 ],
 "metadata": {
  "kernelspec": {
   "display_name": "Python 3",
   "language": "python",
   "name": "python3"
  },
  "language_info": {
   "codemirror_mode": {
    "name": "ipython",
    "version": 3
   },
   "file_extension": ".py",
   "mimetype": "text/x-python",
   "name": "python",
   "nbconvert_exporter": "python",
   "pygments_lexer": "ipython3",
   "version": "3.8.3"
  }
 },
 "nbformat": 4,
 "nbformat_minor": 4
}
