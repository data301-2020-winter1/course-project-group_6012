{
 "cells": [
  {
   "cell_type": "code",
   "execution_count": 9,
   "metadata": {},
   "outputs": [
    {
     "ename": "SyntaxError",
     "evalue": "invalid syntax (<ipython-input-9-6da10587f20e>, line 3)",
     "output_type": "error",
     "traceback": [
      "\u001b[1;36m  File \u001b[1;32m\"<ipython-input-9-6da10587f20e>\"\u001b[1;36m, line \u001b[1;32m3\u001b[0m\n\u001b[1;33m    from r\"C:\\Users\\Owen Harris\\Documents\\DATA 301\\Project\\course-project-group_6012\\analysis\" import load_and_process_original # This is called a relative import\u001b[0m\n\u001b[1;37m         ^\u001b[0m\n\u001b[1;31mSyntaxError\u001b[0m\u001b[1;31m:\u001b[0m invalid syntax\n"
     ]
    }
   ],
   "source": [
    "import pandas as pd\n",
    "\n",
    "from r\"C:\\Users\\Owen Harris\\Documents\\DATA 301\\Project\\course-project-group_6012\\analysis\" import load_and_process_original # This is called a relative import\n",
    "df = load_and_process_original.project_functions(r\"C:\\Users\\Owen Harris\\Documents\\DATA 301\\Project\\course-project-group_6012\\analysis\")\n",
    "df"
   ]
  },
  {
   "cell_type": "code",
   "execution_count": null,
   "metadata": {},
   "outputs": [],
   "source": []
  }
 ],
 "metadata": {
  "kernelspec": {
   "display_name": "Python 3",
   "language": "python",
   "name": "python3"
  },
  "language_info": {
   "codemirror_mode": {
    "name": "ipython",
    "version": 3
   },
   "file_extension": ".py",
   "mimetype": "text/x-python",
   "name": "python",
   "nbconvert_exporter": "python",
   "pygments_lexer": "ipython3",
   "version": "3.8.3"
  }
 },
 "nbformat": 4,
 "nbformat_minor": 4
}
